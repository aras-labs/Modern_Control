{
  "nbformat": 4,
  "nbformat_minor": 0,
  "metadata": {
    "colab": {
      "provenance": []
    },
    "kernelspec": {
      "name": "python3",
      "display_name": "Python 3"
    },
    "language_info": {
      "name": "python"
    }
  },
  "cells": [
    {
      "cell_type": "code",
      "source": [
        "import numpy as np\n",
        "import scipy\n",
        "from scipy.linalg import null_space\n",
        "A = np.array([[-3/2, 1/2], [1/2, -3/2]])\n",
        "B = np.array([[1/2], [1/2]])\n",
        "\n",
        "C = np.hstack((B, np.dot(A, B)))\n",
        "rank_C = np.linalg.matrix_rank(C)\n",
        "\n",
        "null_space_C = null_space(C)\n",
        "print(\"Rank of controllability matrix:\", rank_C)\n",
        "\n",
        "print(\"Null space of controllability matrix:\")\n",
        "print(null_space_C)"
      ],
      "metadata": {
        "colab": {
          "base_uri": "https://localhost:8080/"
        },
        "id": "0NakqF88cAnI",
        "outputId": "5ae75f52-1be7-4028-9423-9f5b7607a46c"
      },
      "execution_count": 18,
      "outputs": [
        {
          "output_type": "stream",
          "name": "stdout",
          "text": [
            "Rank of controllability matrix: 1\n",
            "Null space of controllability matrix:\n",
            "[[0.70710678]\n",
            " [0.70710678]]\n"
          ]
        }
      ]
    }
  ]
}