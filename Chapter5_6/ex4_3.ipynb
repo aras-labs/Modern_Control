{
  "nbformat": 4,
  "nbformat_minor": 0,
  "metadata": {
    "colab": {
      "provenance": []
    },
    "kernelspec": {
      "name": "python3",
      "display_name": "Python 3"
    },
    "language_info": {
      "name": "python"
    }
  },
  "cells": [
    {
      "cell_type": "code",
      "execution_count": 45,
      "metadata": {
        "colab": {
          "base_uri": "https://localhost:8080/"
        },
        "id": "-IfxJ3vVVJqx",
        "outputId": "c9ffb4f9-2fa6-4fd7-9a7f-5aef8856e92e"
      },
      "outputs": [
        {
          "output_type": "stream",
          "name": "stdout",
          "text": [
            "Rank of observability matrix: 1\n",
            "Null space of observability matrix:\n",
            "[[0.70710678]\n",
            " [0.70710678]]\n"
          ]
        }
      ],
      "source": [
        "import numpy as np\n",
        "import scipy\n",
        "from scipy.linalg import null_space\n",
        "A = np.array([[-3/2, 1/2], [1/2, -3/2]])\n",
        "C = np.array([[1, -1]])\n",
        "O = np.vstack((C, np.dot(C, A)))\n",
        "\n",
        "# Calculate the rank of the observability matrix\n",
        "rank_O = np.linalg.matrix_rank(O)\n",
        "print(\"Rank of observability matrix:\", rank_O)\n",
        "\n",
        "# Finding the null space of the observability matrix\n",
        "null_space_O = null_space(O)\n",
        "\n",
        "\n",
        "print(\"Null space of observability matrix:\")\n",
        "print(null_space_O)\n",
        "\n"
      ]
    }
  ]
}