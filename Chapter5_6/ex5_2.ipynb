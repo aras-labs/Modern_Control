{
  "nbformat": 4,
  "nbformat_minor": 0,
  "metadata": {
    "colab": {
      "provenance": []
    },
    "kernelspec": {
      "name": "python3",
      "display_name": "Python 3"
    },
    "language_info": {
      "name": "python"
    }
  },
  "cells": [
    {
      "cell_type": "code",
      "execution_count": 4,
      "metadata": {
        "colab": {
          "base_uri": "https://localhost:8080/"
        },
        "id": "i1camjOYjiAW",
        "outputId": "15b3de18-2a6c-4c95-988d-9a4398b773cb"
      },
      "outputs": [
        {
          "output_type": "stream",
          "name": "stdout",
          "text": [
            "tf1 = \n",
            "<TransferFunction>: sys[5]\n",
            "Inputs (1): ['u[0]']\n",
            "Outputs (1): ['y[0]']\n",
            "\n",
            "\n",
            "    s^2 - 2 s + 1\n",
            "---------------------\n",
            "s^3 + 4 s^2 + 5 s + 2\n",
            "\n",
            "\n",
            "tf2 = \n",
            "<TransferFunction>: sys[7]\n",
            "Inputs (1): ['u[0]']\n",
            "Outputs (1): ['y[0]']\n",
            "\n",
            "\n",
            "    s^2 - 2 s + 1\n",
            "---------------------\n",
            "s^3 + 4 s^2 + 5 s + 2\n",
            "\n"
          ]
        }
      ],
      "source": [
        "import numpy as np\n",
        "from control.matlab import ss, tf\n",
        "\n",
        "# First system\n",
        "A = np.array([[-1, 1, 0],\n",
        "              [0, -1, 0],\n",
        "              [0, 0, -2]])\n",
        "B = np.array([[0], [1], [1]])\n",
        "C = np.array([4, -8, 9])\n",
        "D = 0\n",
        "sys1 = ss(A, B, C, D)\n",
        "tf1 = tf(sys1)\n",
        "print(\"tf1 = \")\n",
        "print(tf1)\n",
        "# Second system\n",
        "a = np.array([[-1, 0, 0],\n",
        "              [1, -1, 0],\n",
        "              [0, 0, -2]])\n",
        "b = np.array([[4], [-8], [9]])\n",
        "c = np.array([0, 1, 1])\n",
        "d = 0\n",
        "sys2 = ss(a, b, c, d)\n",
        "tf2 = tf(sys2)\n",
        "print(\"\\ntf2 = \")\n",
        "print(tf2)"
      ]
    }
  ]
}