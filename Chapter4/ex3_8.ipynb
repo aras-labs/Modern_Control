{
  "nbformat": 4,
  "nbformat_minor": 0,
  "metadata": {
    "colab": {
      "provenance": []
    },
    "kernelspec": {
      "name": "python3",
      "display_name": "Python 3"
    },
    "language_info": {
      "name": "python"
    }
  },
  "cells": [
    {
      "cell_type": "code",
      "source": [
        "\n",
        "#   Example 3-8 of Modern Book\n",
        "\n",
        "import numpy as np\n",
        "from scipy import signal\n",
        "\n",
        "A = np.array([[0, 1],\n",
        "              [-2, -3]])\n",
        "\n",
        "B = np.array([[1],\n",
        "              [1]])\n",
        "\n",
        "C = np.array([1, 0])\n",
        "\n",
        "D = 0\n",
        "\n",
        "sys = signal.StateSpace(A, B, C, D)\n",
        "eigs = np.linalg.eigvals(A)\n",
        "poles = sys.poles\n",
        "zeros = sys.zeros\n",
        "\n",
        "print(\"Eigenvalues (eigs):\")\n",
        "print(eigs)\n",
        "print(\"Poles (poles):\")\n",
        "print(poles)\n",
        "print(\"Zeros (zeros):\")\n",
        "print(zeros)"
      ],
      "metadata": {
        "colab": {
          "base_uri": "https://localhost:8080/"
        },
        "id": "dBqNzr0kYjYX",
        "outputId": "1d67a8f6-db07-4096-908a-98162cd9ffd9"
      },
      "execution_count": 8,
      "outputs": [
        {
          "output_type": "stream",
          "name": "stdout",
          "text": [
            "Eigenvalues (eigs):\n",
            "[-1. -2.]\n",
            "Poles (poles):\n",
            "[-2. -1.]\n",
            "Zeros (zeros):\n",
            "[-4.]\n"
          ]
        },
        {
          "output_type": "stream",
          "name": "stderr",
          "text": [
            "/usr/local/lib/python3.10/dist-packages/scipy/signal/_filter_design.py:1746: BadCoefficients: Badly conditioned filter coefficients (numerator): the results may be meaningless\n",
            "  warnings.warn(\"Badly conditioned filter coefficients (numerator): the \"\n"
          ]
        }
      ]
    }
  ]
}