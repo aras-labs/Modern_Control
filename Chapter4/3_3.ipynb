{
  "nbformat": 4,
  "nbformat_minor": 0,
  "metadata": {
    "colab": {
      "provenance": []
    },
    "kernelspec": {
      "name": "python3",
      "display_name": "Python 3"
    },
    "language_info": {
      "name": "python"
    }
  },
  "cells": [
    {
      "cell_type": "code",
      "execution_count": 5,
      "metadata": {
        "colab": {
          "base_uri": "https://localhost:8080/"
        },
        "id": "Y2WafZqIcspc",
        "outputId": "4ac6bd7d-e5f7-44da-c69a-9bdb24ed6d8c"
      },
      "outputs": [
        {
          "output_type": "stream",
          "name": "stdout",
          "text": [
            "Matrix([[3*exp(-2*t) - 2*exp(-3*t), 6*exp(-2*t) - 6*exp(-3*t)], [-exp(-2*t) + exp(-3*t), -2*exp(-2*t) + 3*exp(-3*t)]])\n"
          ]
        }
      ],
      "source": [
        "import sympy as sp\n",
        "\n",
        "A = sp.Matrix([[0, 6],\n",
        "               [-1, -5]])\n",
        "\n",
        "t = sp.symbols('t')\n",
        "exp_At = (A*t).exp()  # Compute the symbolic matrix exponential\n",
        "\n",
        "print(exp_At)"
      ]
    },
    {
      "cell_type": "code",
      "source": [
        "import sympy as sp\n",
        "\n",
        "A = sp.Matrix([[0, 6],\n",
        "               [-1, -5]])\n",
        "\n",
        "t = sp.Symbol('t')\n",
        "exp_At = (A*t).exp()  # Compute the symbolic matrix exponential\n",
        "\n",
        "\n",
        "\n",
        "sp.pprint(exp_At, use_unicode=True)\n",
        "print('-------------------------------------')\n",
        "print(exp_At[0],'   ',exp_At[1],'\\n',exp_At[2],'   ',exp_At[3])"
      ],
      "metadata": {
        "colab": {
          "base_uri": "https://localhost:8080/"
        },
        "id": "rOAPh1tVdoCB",
        "outputId": "a11aad62-8100-430d-946c-4f67eba90555"
      },
      "execution_count": 16,
      "outputs": [
        {
          "output_type": "stream",
          "name": "stdout",
          "text": [
            "⎡   -2⋅t      -3⋅t      -2⋅t      -3⋅t ⎤\n",
            "⎢3⋅ℯ     - 2⋅ℯ       6⋅ℯ     - 6⋅ℯ     ⎥\n",
            "⎢                                      ⎥\n",
            "⎢    -2⋅t    -3⋅t        -2⋅t      -3⋅t⎥\n",
            "⎣ - ℯ     + ℯ       - 2⋅ℯ     + 3⋅ℯ    ⎦\n",
            "-------------------------------------\n",
            "3*exp(-2*t) - 2*exp(-3*t)     6*exp(-2*t) - 6*exp(-3*t) \n",
            " -exp(-2*t) + exp(-3*t)     -2*exp(-2*t) + 3*exp(-3*t)\n"
          ]
        }
      ]
    }
  ]
}