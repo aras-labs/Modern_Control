{
  "nbformat": 4,
  "nbformat_minor": 0,
  "metadata": {
    "colab": {
      "provenance": []
    },
    "kernelspec": {
      "name": "python3",
      "display_name": "Python 3"
    },
    "language_info": {
      "name": "python"
    }
  },
  "cells": [
    {
      "cell_type": "markdown",
      "source": [
        "## What is expm?\n",
        "The expm function, short for \"matrix exponential,\" is a mathematical function used to compute the exponential of a square matrix.\n",
        "The matrix exponential is defined using a power series expansion, similar to the exponential function for scalars:\n",
        "\n",
        "expm(A) = I + A + (A^2)/2! + (A^3)/3! + ...\n",
        "\n",
        "where A is a square matrix, I is the identity matrix of the same size as A, and A^n represents the matrix A raised to the power of n.\n",
        "\n",
        "The expm function calculates the matrix exponential by evaluating this power series expansion up to a certain level of accuracy. It is a useful tool for solving systems of linear differential equations, computing matrix logarithms, and solving matrix equations.\n",
        "\n",
        "In Python, the expm function is available in the scipy.linalg module, which is a part of the SciPy library. It can be used to compute the matrix exponential of a square matrix."
      ],
      "metadata": {
        "id": "45zH4QggvKee"
      }
    },
    {
      "cell_type": "code",
      "execution_count": 1,
      "metadata": {
        "colab": {
          "base_uri": "https://localhost:8080/"
        },
        "id": "n81KDO8lu3f6",
        "outputId": "7855c39c-ac69-4227-8d43-4a4142df1430"
      },
      "outputs": [
        {
          "output_type": "execute_result",
          "data": {
            "text/plain": [
              "array([[ 0.99094408,  0.08610666],\n",
              "       [-0.17221333,  0.73262409]])"
            ]
          },
          "metadata": {},
          "execution_count": 1
        }
      ],
      "source": [
        "import numpy as np\n",
        "from scipy.linalg import expm\n",
        "A = np.array([[0, 1], [-2, -3]])\n",
        "t = 0.1\n",
        "\n",
        "phi = expm(A * t)\n",
        "phi"
      ]
    }
  ]
}