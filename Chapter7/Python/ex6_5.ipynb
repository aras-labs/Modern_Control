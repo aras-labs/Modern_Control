{
  "nbformat": 4,
  "nbformat_minor": 0,
  "metadata": {
    "colab": {
      "provenance": []
    },
    "kernelspec": {
      "name": "python3",
      "display_name": "Python 3"
    },
    "language_info": {
      "name": "python"
    }
  },
  "cells": [
    {
      "cell_type": "code",
      "execution_count": 3,
      "metadata": {
        "colab": {
          "base_uri": "https://localhost:8080/"
        },
        "id": "7ut1j9-wTWdI",
        "outputId": "a3e7acc6-0f43-4e45-daf8-6c6cae4d3c58"
      },
      "outputs": [
        {
          "output_type": "stream",
          "name": "stdout",
          "text": [
            "Gain matrix k:\n",
            "[-16.02040816 -15.24285714 -98.68540816 -28.10285714]\n"
          ]
        }
      ],
      "source": [
        "import numpy as np\n",
        "from scipy.linalg import inv, solve_continuous_lyapunov\n",
        "\n",
        "# Define matrices and vectors\n",
        "A = np.array([[0, 1, 0, 0],\n",
        "              [0, 0, -9.8, 0],\n",
        "              [0, 0, 0, 1],\n",
        "              [0, 0, 19.6, 0]])\n",
        "b = np.array([[0],\n",
        "              [1],\n",
        "              [0],\n",
        "              [-1]])\n",
        "\n",
        "# Compute controllability matrix\n",
        "C = np.hstack([b, np.dot(A, b), np.dot(A, np.dot(A, b)), np.dot(A, np.dot(A, np.dot(A, b)))])\n",
        "\n",
        "# Define other variables\n",
        "a = np.array([0, -19.6, 0, 0])\n",
        "alpha = np.array([12.86, 63.065, 149.38, 157.0])\n",
        "\n",
        "# Construct Psi_1 matrix\n",
        "Psi_1 = np.array([[1, -a[0], a[0]**2 - a[1], -a[0]**3 + 2*a[0]*a[1] - a[2]],\n",
        "                  [0, 1, -a[0], a[0]**2 - a[1]],\n",
        "                  [0, 0, 1, -a[0]],\n",
        "                  [0, 0, 0, 1]])\n",
        "\n",
        "# Compute gain matrix k\n",
        "k = np.dot(np.dot((alpha - a), Psi_1), inv(C))\n",
        "\n",
        "print(\"Gain matrix k:\")\n",
        "print(k)\n",
        "\n"
      ]
    }
  ]
}