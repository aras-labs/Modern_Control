{
  "nbformat": 4,
  "nbformat_minor": 0,
  "metadata": {
    "colab": {
      "provenance": []
    },
    "kernelspec": {
      "name": "python3",
      "display_name": "Python 3"
    },
    "language_info": {
      "name": "python"
    }
  },
  "cells": [
    {
      "cell_type": "code",
      "execution_count": 5,
      "metadata": {
        "colab": {
          "base_uri": "https://localhost:8080/"
        },
        "id": "qSHJq1CBWEpX",
        "outputId": "8b2d4b35-b045-4257-8768-23efbe486d5f"
      },
      "outputs": [
        {
          "output_type": "stream",
          "name": "stdout",
          "text": [
            "Eigenvalues of A:\n",
            "[ 0.        +0.j  0.        +0.j  4.42718872+0.j -4.42718872+0.j]\n",
            "Gain matrix k:\n",
            "[[-15.91183673 -15.16408163 -98.32383673 -27.99408163]]\n"
          ]
        }
      ],
      "source": [
        "import numpy as np\n",
        "from scipy.linalg import eig\n",
        "from scipy.signal import place_poles\n",
        "import control\n",
        "# Define matrices and vectors\n",
        "A = np.array([[0, 1, 0, 0],\n",
        "              [0, 0, -9.8, 0],\n",
        "              [0, 0, 0, 1],\n",
        "              [0, 0, 19.6, 0]])\n",
        "b = np.array([[0],\n",
        "              [1],\n",
        "              [0],\n",
        "              [-1]])\n",
        "\n",
        "# Compute eigenvalues of A\n",
        "e = eig(A)[0]\n",
        "print(\"Eigenvalues of A:\")\n",
        "print(e)\n",
        "\n",
        "# Desired pole locations (adjusted to avoid repeated poles)\n",
        "pd = np.array([-4.43, -4.4, -2-2j, -2+2j])\n",
        "\n",
        "\n",
        "k = control.acker(A, b, pd)\n",
        "print(\"Gain matrix k:\")\n",
        "print(k)\n"
      ]
    }
  ]
}